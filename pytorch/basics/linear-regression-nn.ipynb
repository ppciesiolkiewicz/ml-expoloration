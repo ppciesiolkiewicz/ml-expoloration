{
 "cells": [
  {
   "cell_type": "code",
   "execution_count": null,
   "metadata": {},
   "outputs": [],
   "source": [
    "import torch\n",
    "import torch.nn as nn\n",
    "import torch.functional as F\n",
    "import torch.optim as optim\n",
    "import matplotlib.pyplot as plt\n",
    "import numpy as np"
   ]
  },
  {
   "cell_type": "code",
   "execution_count": null,
   "metadata": {},
   "outputs": [],
   "source": [
    "x = torch.arange(100, dtype=torch.float32)\n",
    "y = (x * 10 + 5) + torch.rand(100) * 1e2\n",
    "x = x.unsqueeze(-1)\n",
    "y = y.unsqueeze(-1)\n",
    "x = x/100\n",
    "plt.scatter(x,y)\n",
    "\n",
    "x.shape, y.shape"
   ]
  },
  {
   "cell_type": "code",
   "execution_count": null,
   "metadata": {},
   "outputs": [],
   "source": [
    "model = nn.Sequential(\n",
    "    nn.Linear(1, 10),\n",
    "    nn.ReLU(),\n",
    "    nn.Linear(10, 1)\n",
    ")\n",
    "loss_fn = nn.MSELoss(reduction='sum')\n",
    "for p in model.parameters():\n",
    "    nn.init.uniform_(p)\n",
    "\n",
    "model"
   ]
  },
  {
   "cell_type": "code",
   "execution_count": null,
   "metadata": {},
   "outputs": [],
   "source": [
    "epochs = 1000\n",
    "lr = 1e-7\n",
    "optimizer = optim.SGD(model.parameters(), lr=lr)\n",
    "\n",
    "for i in range(epochs):\n",
    "    y_hat = model(x)\n",
    "    loss = loss_fn(y_hat, y)\n",
    "\n",
    "    optimizer.zero_grad()\n",
    "    loss.backward()\n",
    "    optimizer.step()\n",
    "    \n",
    "# optimizer.step() does something like this\n",
    "#     with torch.no_grad():\n",
    "#         for param in model.parameters():\n",
    "#             param -= lr * param.grad          \n",
    "    \n",
    "    if i % 100 == 0:\n",
    "        print(i, loss.item())\n",
    "        plt.figure()\n",
    "        plt.scatter(x, y_hat.detach().numpy())\n",
    "        plt.scatter(x, y)"
   ]
  },
  {
   "cell_type": "code",
   "execution_count": null,
   "metadata": {},
   "outputs": [],
   "source": []
  },
  {
   "cell_type": "code",
   "execution_count": null,
   "metadata": {},
   "outputs": [],
   "source": []
  }
 ],
 "metadata": {
  "kernelspec": {
   "display_name": "Python 3",
   "language": "python",
   "name": "python3"
  },
  "language_info": {
   "codemirror_mode": {
    "name": "ipython",
    "version": 3
   },
   "file_extension": ".py",
   "mimetype": "text/x-python",
   "name": "python",
   "nbconvert_exporter": "python",
   "pygments_lexer": "ipython3",
   "version": "3.7.6"
  }
 },
 "nbformat": 4,
 "nbformat_minor": 4
}
