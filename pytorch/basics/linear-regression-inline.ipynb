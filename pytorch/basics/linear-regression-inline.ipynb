{
 "cells": [
  {
   "cell_type": "code",
   "execution_count": null,
   "metadata": {},
   "outputs": [],
   "source": [
    "import torch\n",
    "import matplotlib.pyplot as plt"
   ]
  },
  {
   "cell_type": "code",
   "execution_count": null,
   "metadata": {},
   "outputs": [],
   "source": [
    "x = torch.arange(100)\n",
    "y = (x * -10 + 5) + torch.rand(100) * 1e2\n",
    "plt.scatter(x,y)"
   ]
  },
  {
   "cell_type": "code",
   "execution_count": null,
   "metadata": {},
   "outputs": [],
   "source": [
    "W = torch.rand(1, requires_grad = True, dtype=torch.float32)\n",
    "b = torch.rand(1, requires_grad = True, dtype=torch.float32)\n",
    "\n",
    "W, b"
   ]
  },
  {
   "cell_type": "code",
   "execution_count": null,
   "metadata": {},
   "outputs": [],
   "source": [
    "epochs = 100\n",
    "lr = 1e-3\n",
    "a = 0.5\n",
    "\n",
    "for i in range(epochs):\n",
    "    y_hat = x * W + b\n",
    "    reg = W.pow(2)+b.pow(2) * a # regularization seems a bit off for this example\n",
    "    loss = (y_hat-y).pow(2).sqrt().mean() + reg\n",
    "    loss.backward()\n",
    "    \n",
    "    if i % 10 == 0:\n",
    "        print(i, loss.item())\n",
    "        plt.figure()\n",
    "        plt.scatter(x, y_hat.detach().numpy())\n",
    "        plt.scatter(x, y)\n",
    "    \n",
    "    \n",
    "    with torch.no_grad():\n",
    "        W -= lr * W.grad\n",
    "        b -= lr * b.grad\n",
    "        W.grad.zero_()\n",
    "        b.grad.zero_()\n",
    "\n",
    "W, b"
   ]
  },
  {
   "cell_type": "code",
   "execution_count": null,
   "metadata": {},
   "outputs": [],
   "source": []
  }
 ],
 "metadata": {
  "kernelspec": {
   "display_name": "Python 3",
   "language": "python",
   "name": "python3"
  },
  "language_info": {
   "codemirror_mode": {
    "name": "ipython",
    "version": 3
   },
   "file_extension": ".py",
   "mimetype": "text/x-python",
   "name": "python",
   "nbconvert_exporter": "python",
   "pygments_lexer": "ipython3",
   "version": "3.7.6"
  }
 },
 "nbformat": 4,
 "nbformat_minor": 4
}
